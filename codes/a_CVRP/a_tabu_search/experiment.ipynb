{
 "cells": [
  {
   "cell_type": "code",
   "execution_count": null,
   "metadata": {},
   "outputs": [],
   "source": [
    "import json\n",
    "from codes.a_CVRP.a_tabu_search.e_experiment import Experiment\n",
    "\n",
    "e = Experiment()\n",
    "\n",
    "graph = [118]\n",
    "graph               = [9, 36, 40, 45, 59, 66, 72, 96, 102, 113, 118, 132, 139, 145, 149, 166, 181, 184]\n",
    "\n",
    "default_settings    = {}\n",
    "focus               = None\n",
    "\n",
    "default_settings[\"c_d\"]           = 0.01                   # coefficient of cost of disance\n",
    "default_settings[\"c_u\"]           = 100                   # coefficient of cost of duration\n",
    "default_settings[\"c_i\"]           = 100                 # coefficient of cost of infeasible\n",
    "default_settings[\"r_d\"]           = 0.01               # coefficient of reward of diversity\n",
    "default_settings[\"r_p\"]           = -1000                  # coefficient of reward of profit\n",
    "default_settings[\"tabu_tenure\"]   = 30                  # the tabu tenure\n",
    "default_settings[\"terminal_max\"]  = 110                # terminal because reach the maximal iteration numbers\n",
    "default_settings[\"tabu_good\"]     = 100                 # record a good solution every n iterations\n",
    "default_settings[\"logging\"]       = False               # print the log or not\n",
    "default_settings[\"inference\"]     = 10      \n",
    "default_settings[\"dynamic\"]       = \"productive\"\n",
    "default_settings[\"delta\"]         = 2\n",
    "default_settings['aggregation']   = False\n",
    "default_settings[\"initial\"]   = {\"type\": \"FengE\", \"ortools_time_limits\": 30}\n",
    "\n",
    "\n",
    "e.experiment(graph, default_settings, focus, plot=True)\n",
    "with open(\"experiment_results_1.json\", \"w\") as f:\n",
    "    json.dump(e.result, f)"
   ]
  }
 ],
 "metadata": {
  "language_info": {
   "name": "python"
  }
 },
 "nbformat": 4,
 "nbformat_minor": 2
}
