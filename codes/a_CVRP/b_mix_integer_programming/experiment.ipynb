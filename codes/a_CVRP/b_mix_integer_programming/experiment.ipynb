{
 "cells": [
  {
   "cell_type": "code",
   "execution_count": null,
   "metadata": {},
   "outputs": [],
   "source": [
    "import json\n",
    "from codes.a_CVRP.b_mix_integer_programming.b_mip_experiment import MIPExperiment\n",
    "\n",
    "graph               = [9]\n",
    "e = MIPExperiment()\n",
    "e.experiment(graph)\n",
    "\n",
    "with open(\"experiment_results.json\", \"w\") as f:\n",
    "    json.dump(e.result, f)"
   ]
  }
 ],
 "metadata": {
  "language_info": {
   "name": "python"
  }
 },
 "nbformat": 4,
 "nbformat_minor": 2
}
