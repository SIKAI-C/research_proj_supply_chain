{
 "cells": [
  {
   "cell_type": "code",
   "execution_count": null,
   "metadata": {},
   "outputs": [],
   "source": [
    "from codes.b_IRP.b_fixed_partition_policy.a_generate_instance import generateInstance, convertResToParams\n",
    "from codes.b_IRP.b_fixed_partition_policy.b_rFPP import rFPPSolution\n",
    "from codes.b_IRP.b_fixed_partition_policy.c_solution_parser import fixPartitions, solJoint, actualRoutes, plotRoutes\n",
    "import numpy as np"
   ]
  },
  {
   "cell_type": "code",
   "execution_count": null,
   "metadata": {},
   "outputs": [],
   "source": [
    "res = generateInstance(days=10, size=25, cars=3, holding_cost=\"low\")\n",
    "T, N, N_p, E, E_p, K, U, Q, r, I_0, hc, c = convertResToParams(res)\n",
    "m, y, x, z, q, I = rFPPSolution(T, N, N_p, E, E_p, K, U, Q, r, I_0, hc, c)"
   ]
  },
  {
   "cell_type": "code",
   "execution_count": null,
   "metadata": {},
   "outputs": [],
   "source": [
    "fixed_partitions = fixPartitions(x)\n",
    "print(fixed_partitions)"
   ]
  },
  {
   "cell_type": "code",
   "execution_count": null,
   "metadata": {},
   "outputs": [],
   "source": [
    "actual_routes = actualRoutes(y, K, T)"
   ]
  }
 ],
 "metadata": {
  "language_info": {
   "name": "python"
  }
 },
 "nbformat": 4,
 "nbformat_minor": 2
}
